{
 "cells": [
  {
   "cell_type": "code",
   "execution_count": 1,
   "id": "b0b27aec-3b13-4ffd-a16b-4b41fd1313df",
   "metadata": {},
   "outputs": [],
   "source": [
    "import plotly.graph_objects as go\n",
    "import plotly.io as pio\n",
    "import pandas as pd\n",
    "import numpy as np\n",
    "import sys\n",
    "from pathlib import Path\n",
    "from custom_assets import colors\n",
    "\n",
    "\n",
    "#for jupyter\n",
    "import os\n",
    "\n",
    "pio.renderers.default = (\n",
    "    \"browser\"  # modify this to plot on something else besides browser\n",
    ")\n"
   ]
  },
  {
   "cell_type": "code",
   "execution_count": 2,
   "id": "19e3c3bf-6edd-4bd1-a5c4-b3a134e027a1",
   "metadata": {},
   "outputs": [
    {
     "name": "stdout",
     "output_type": "stream",
     "text": [
      "/Users/pick/projects/pred-nfl-bdb-2026/code/plotting/../../data/train/input_2023_w01.csv\n",
      "/Users/pick/projects/pred-nfl-bdb-2026/code/plotting/../../data/train/output_2023_w01.csv\n",
      "/Users/pick/projects/pred-nfl-bdb-2026/code/plotting/../../data/supplementary_data.csv\n"
     ]
    }
   ],
   "source": [
    "#script_dir = Path(__file__).parent  \n",
    "#data_path = (script_dir / \"../../data\").resolve()\n",
    "\n",
    "# for jupyter\n",
    "script_dir = os.path.abspath('')\n",
    "\n",
    "import os \n",
    "# for silly jupyter\n",
    "data_path = os.path.join(script_dir, \"../../data/\")\n",
    "\n",
    "# Modify the variables below to plot your desired play\n",
    "input_data_loc = \"train/input_2023_w01.csv\"\n",
    "output_data_loc = \"train/output_2023_w01.csv\"\n",
    "\n",
    "game_id = 2023090700\n",
    "play_id = 101\n",
    "supplementary_file = \"supplementary_data.csv\"\n",
    "\n",
    "#tracking_file = data_path / input_data_file\n",
    "# for silly jupyter\n",
    "input_data_file = os.path.join(data_path, input_data_loc)\n",
    "output_data_file = os.path.join(data_path, output_data_loc)\n",
    "info_file = os.path.join(data_path, supplementary_file)\n",
    "\n",
    "print(input_data_file)\n",
    "print(output_data_file)\n",
    "print(info_file)"
   ]
  },
  {
   "cell_type": "code",
   "execution_count": 3,
   "id": "d824e624-fd4a-479f-b761-14947caaa802",
   "metadata": {},
   "outputs": [
    {
     "name": "stderr",
     "output_type": "stream",
     "text": [
      "/var/folders/xj/g4f3qxj923dg9hvptdpcl3mr0000gn/T/ipykernel_63351/3267752177.py:3: DtypeWarning:\n",
      "\n",
      "Columns (25) have mixed types. Specify dtype option on import or set low_memory=False.\n",
      "\n"
     ]
    }
   ],
   "source": [
    "df_input = pd.read_csv(input_data_file)\n",
    "df_output = pd.read_csv(output_data_file)\n",
    "df_plays = pd.read_csv(info_file)"
   ]
  },
  {
   "cell_type": "code",
   "execution_count": 4,
   "id": "652c063a-ba79-4a2f-8ca0-5fa25ed27987",
   "metadata": {},
   "outputs": [
    {
     "name": "stdout",
     "output_type": "stream",
     "text": [
      "Index(['game_id', 'play_id', 'player_to_predict', 'nfl_id', 'frame_id',\n",
      "       'play_direction', 'absolute_yardline_number', 'player_name',\n",
      "       'player_height', 'player_weight', 'player_birth_date',\n",
      "       'player_position', 'player_side', 'player_role', 'x', 'y', 's', 'a',\n",
      "       'dir', 'o', 'num_frames_output', 'ball_land_x', 'ball_land_y', 'season',\n",
      "       'week', 'game_date', 'game_time_eastern', 'home_team_abbr',\n",
      "       'visitor_team_abbr', 'play_description', 'quarter', 'game_clock',\n",
      "       'down', 'yards_to_go', 'possession_team', 'defensive_team',\n",
      "       'yardline_side', 'yardline_number', 'pre_snap_home_score',\n",
      "       'pre_snap_visitor_score', 'play_nullified_by_penalty', 'pass_result',\n",
      "       'pass_length', 'offense_formation', 'receiver_alignment',\n",
      "       'route_of_targeted_receiver', 'play_action', 'dropback_type',\n",
      "       'dropback_distance', 'pass_location_type', 'defenders_in_the_box',\n",
      "       'team_coverage_man_zone', 'team_coverage_type', 'penalty_yards',\n",
      "       'pre_penalty_yards_gained', 'yards_gained', 'expected_points',\n",
      "       'expected_points_added', 'pre_snap_home_team_win_probability',\n",
      "       'pre_snap_visitor_team_win_probability',\n",
      "       'home_team_win_probability_added', 'visitor_team_win_probility_added'],\n",
      "      dtype='object')\n"
     ]
    }
   ],
   "source": [
    "df_input_merged = df_input.merge(df_plays, on=[\"game_id\", \"play_id\"])\n",
    "df_output_merged = df_output.merge(df_plays, on=[\"game_id\", \"play_id\"])\n",
    "\n",
    "print(df_input_merged.columns)\n",
    "\n",
    "drop_list = ['penalty_yards',\n",
    "       'pre_penalty_yards_gained', 'yards_gained', 'expected_points',\n",
    "       'expected_points_added', 'pre_snap_home_team_win_probability',\n",
    "       'pre_snap_visitor_team_win_probability',\n",
    "       'home_team_win_probability_added', 'visitor_team_win_probility_added', 'play_nullified_by_penalty']\n",
    "\n",
    "df_input_final = df_input_merged.drop(drop_list, axis=1)\n",
    "df_output_merged = df_output_merged.drop(drop_list, axis=1)"
   ]
  },
  {
   "cell_type": "code",
   "execution_count": 20,
   "id": "6c69db3c-8c3b-4e14-a08c-41aa5e04d15e",
   "metadata": {},
   "outputs": [
    {
     "data": {
      "text/plain": [
       "game_id                                                              2023090700\n",
       "play_id                                                                     101\n",
       "nfl_id                                                                    46137\n",
       "frame_id                                                                      1\n",
       "x                                                                         56.22\n",
       "y                                                                         17.28\n",
       "season                                                                     2023\n",
       "week                                                                          1\n",
       "game_date                                                            09/07/2023\n",
       "game_time_eastern                                                      20:20:00\n",
       "home_team_abbr                                                               KC\n",
       "visitor_team_abbr                                                           DET\n",
       "play_description              (14:25) (Shotgun) J.Goff pass incomplete deep ...\n",
       "quarter                                                                       1\n",
       "game_clock                                                                14:25\n",
       "down                                                                          3\n",
       "yards_to_go                                                                   3\n",
       "possession_team                                                             DET\n",
       "defensive_team                                                               KC\n",
       "yardline_side                                                               DET\n",
       "yardline_number                                                              32\n",
       "pre_snap_home_score                                                           0\n",
       "pre_snap_visitor_score                                                        0\n",
       "pass_result                                                                   I\n",
       "pass_length                                                                  22\n",
       "offense_formation                                                       SHOTGUN\n",
       "receiver_alignment                                                          2x2\n",
       "route_of_targeted_receiver                                               CORNER\n",
       "play_action                                                               False\n",
       "dropback_type                                                       TRADITIONAL\n",
       "dropback_distance                                                          2.13\n",
       "pass_location_type                                                   INSIDE_BOX\n",
       "defenders_in_the_box                                                          6\n",
       "team_coverage_man_zone                                            ZONE_COVERAGE\n",
       "team_coverage_type                                                 COVER_2_ZONE\n",
       "Name: 0, dtype: object"
      ]
     },
     "execution_count": 20,
     "metadata": {},
     "output_type": "execute_result"
    }
   ],
   "source": [
    "df_output_merged[(df_output_merged[\"frame_id\"] == 1)].iloc[0]"
   ]
  },
  {
   "cell_type": "code",
   "execution_count": 5,
   "id": "4e836eab-6a32-41d6-b49a-c2758282ec1e",
   "metadata": {},
   "outputs": [],
   "source": [
    "# Create a mapping of player roles from pre-pass data\n",
    "# Each player has one role per play\n",
    "role_mapping = df_input_final[['game_id', 'play_id', 'nfl_id', 'player_role']].drop_duplicates()\n",
    "df_output_final = df_output_merged.merge(\n",
    "    role_mapping,\n",
    "    on=['game_id', 'play_id', 'nfl_id'],\n",
    "    how='left'\n",
    ")\n"
   ]
  },
  {
   "cell_type": "code",
   "execution_count": 11,
   "id": "1e2a65dd-942c-46d9-b0b1-d8b7daebd06f",
   "metadata": {},
   "outputs": [
    {
     "name": "stderr",
     "output_type": "stream",
     "text": [
      "/var/folders/xj/g4f3qxj923dg9hvptdpcl3mr0000gn/T/ipykernel_63351/3774775338.py:11: SettingWithCopyWarning:\n",
      "\n",
      "\n",
      "A value is trying to be set on a copy of a slice from a DataFrame.\n",
      "Try using .loc[row_indexer,col_indexer] = value instead\n",
      "\n",
      "See the caveats in the documentation: https://pandas.pydata.org/pandas-docs/stable/user_guide/indexing.html#returning-a-view-versus-a-copy\n",
      "\n"
     ]
    },
    {
     "data": {
      "text/plain": [
       "Index(['game_id', 'play_id', 'player_to_predict', 'nfl_id', 'frame_id',\n",
       "       'play_direction', 'absolute_yardline_number', 'player_name',\n",
       "       'player_height', 'player_weight', 'player_birth_date',\n",
       "       'player_position', 'player_side', 'player_role', 'x', 'y', 's', 'a',\n",
       "       'dir', 'o', 'num_frames_output', 'ball_land_x', 'ball_land_y', 'season',\n",
       "       'week', 'game_date', 'game_time_eastern', 'home_team_abbr',\n",
       "       'visitor_team_abbr', 'play_description', 'quarter', 'game_clock',\n",
       "       'down', 'yards_to_go', 'possession_team', 'defensive_team',\n",
       "       'yardline_side', 'yardline_number', 'pre_snap_home_score',\n",
       "       'pre_snap_visitor_score', 'pass_result', 'pass_length',\n",
       "       'offense_formation', 'receiver_alignment', 'route_of_targeted_receiver',\n",
       "       'play_action', 'dropback_type', 'dropback_distance',\n",
       "       'pass_location_type', 'defenders_in_the_box', 'team_coverage_man_zone',\n",
       "       'team_coverage_type'],\n",
       "      dtype='object')"
      ]
     },
     "execution_count": 11,
     "metadata": {},
     "output_type": "execute_result"
    }
   ],
   "source": [
    "df_input_focused = df_input_final[\n",
    "    (df_input_final[\"play_id\"] == play_id) & (df_input_final[\"game_id\"] == game_id)\n",
    "]\n",
    "\n",
    "df_output_focused = df_output_final[\n",
    "    (df_output_final[\"play_id\"] == play_id) & (df_output_final[\"game_id\"] == game_id)\n",
    "]\n",
    "\n",
    "\n",
    "# Concat the two dataframes - merge the two segments of the play into one\n",
    "df_output_focused['frame_id'] = df_output_focused['frame_id'] + df_input_focused['frame_id'].max()\n",
    "df_focused = pd.concat([df_input_focused, df_output_focused], ignore_index=True)\n"
   ]
  },
  {
   "cell_type": "code",
   "execution_count": 18,
   "id": "76ec4eb5-a4b5-4985-97ea-dd2a57a62d28",
   "metadata": {},
   "outputs": [
    {
     "data": {
      "text/plain": [
       "game_id                                                              2023090700\n",
       "play_id                                                                     101\n",
       "player_to_predict                                                          True\n",
       "nfl_id                                                                    46137\n",
       "frame_id                                                                      1\n",
       "play_direction                                                            right\n",
       "absolute_yardline_number                                                   42.0\n",
       "player_name                                                         Justin Reid\n",
       "player_height                                                               6-1\n",
       "player_weight                                                             204.0\n",
       "player_birth_date                                                    1997-02-15\n",
       "player_position                                                              SS\n",
       "player_side                                                             Defense\n",
       "player_role                                                  Defensive Coverage\n",
       "x                                                                         51.32\n",
       "y                                                                         20.69\n",
       "s                                                                          0.31\n",
       "a                                                                          0.49\n",
       "dir                                                                       79.43\n",
       "o                                                                        267.68\n",
       "num_frames_output                                                          21.0\n",
       "ball_land_x                                                           63.259998\n",
       "ball_land_y                                                               -0.22\n",
       "season                                                                     2023\n",
       "week                                                                          1\n",
       "game_date                                                            09/07/2023\n",
       "game_time_eastern                                                      20:20:00\n",
       "home_team_abbr                                                               KC\n",
       "visitor_team_abbr                                                           DET\n",
       "play_description              (14:25) (Shotgun) J.Goff pass incomplete deep ...\n",
       "quarter                                                                       1\n",
       "game_clock                                                                14:25\n",
       "down                                                                          3\n",
       "yards_to_go                                                                   3\n",
       "possession_team                                                             DET\n",
       "defensive_team                                                               KC\n",
       "yardline_side                                                               DET\n",
       "yardline_number                                                              32\n",
       "pre_snap_home_score                                                           0\n",
       "pre_snap_visitor_score                                                        0\n",
       "pass_result                                                                   I\n",
       "pass_length                                                                  22\n",
       "offense_formation                                                       SHOTGUN\n",
       "receiver_alignment                                                          2x2\n",
       "route_of_targeted_receiver                                               CORNER\n",
       "play_action                                                               False\n",
       "dropback_type                                                       TRADITIONAL\n",
       "dropback_distance                                                          2.13\n",
       "pass_location_type                                                   INSIDE_BOX\n",
       "defenders_in_the_box                                                          6\n",
       "team_coverage_man_zone                                            ZONE_COVERAGE\n",
       "team_coverage_type                                                 COVER_2_ZONE\n",
       "Name: 26, dtype: object"
      ]
     },
     "execution_count": 18,
     "metadata": {},
     "output_type": "execute_result"
    }
   ],
   "source": [
    "df_focused[(df_focused[\"player_to_predict\"] == True) & (df_focused[\"frame_id\"] == 1)].iloc[0]"
   ]
  },
  {
   "cell_type": "code",
   "execution_count": null,
   "id": "6b960d9b-8e0f-4f8b-ae0a-29bc39bce64b",
   "metadata": {},
   "outputs": [],
   "source": []
  }
 ],
 "metadata": {
  "kernelspec": {
   "display_name": "Python 3 (ipykernel)",
   "language": "python",
   "name": "python3"
  },
  "language_info": {
   "codemirror_mode": {
    "name": "ipython",
    "version": 3
   },
   "file_extension": ".py",
   "mimetype": "text/x-python",
   "name": "python",
   "nbconvert_exporter": "python",
   "pygments_lexer": "ipython3",
   "version": "3.12.7"
  }
 },
 "nbformat": 4,
 "nbformat_minor": 5
}
